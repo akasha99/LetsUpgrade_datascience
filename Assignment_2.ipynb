{
 "cells": [
  {
   "cell_type": "code",
   "execution_count": null,
   "metadata": {},
   "outputs": [],
   "source": [
    "#Question 1\n",
    "l = []\n",
    "for i in range(10):\n",
    "    n = int(input())\n",
    "    if n%2 == 0:\n",
    "        l.append(n)\n",
    "print(l)"
   ]
  },
  {
   "cell_type": "code",
   "execution_count": null,
   "metadata": {},
   "outputs": [],
   "source": [
    "#Question 2\n",
    "lis = [i for i in range(10) if (i%2) != 0]\n",
    "print(lis)"
   ]
  },
  {
   "cell_type": "code",
   "execution_count": null,
   "metadata": {},
   "outputs": [],
   "source": [
    "#Question 2\n",
    "def change(f):\n",
    "    if f%3 == 0:\n",
    "        return f**3\n",
    "    else:\n",
    "        return f**2\n",
    "\n",
    "row = [change(x) for x in range(20)]\n",
    "print(row)"
   ]
  },
  {
   "cell_type": "code",
   "execution_count": null,
   "metadata": {},
   "outputs": [],
   "source": [
    "#Question 3\n",
    "di = dict()\n",
    "n = int(input())\n",
    "for i in range(1,n+1):\n",
    "    di[i] = i*i\n",
    "print(di)"
   ]
  },
  {
   "cell_type": "code",
   "execution_count": 2,
   "metadata": {},
   "outputs": [
    {
     "name": "stdout",
     "output_type": "stream",
     "text": [
      "4\n",
      "UP 5\n",
      "DOWN 3\n",
      "LEFT 3\n",
      "RIGHT 2\n",
      "2\n"
     ]
    }
   ],
   "source": [
    "#Question 4\n",
    "import math\n",
    "n = int(input())\n",
    "direction = [0,0]\n",
    "for i in range(n):\n",
    "    val = input().split(\" \")\n",
    "    if val[0].upper() == \"UP\":\n",
    "        direction[0] += int(val[1])\n",
    "    elif val[0].upper() == \"DOWN\":\n",
    "        direction[0] -= int(val[1])\n",
    "    elif val[1].upper() == \"LEFT\":\n",
    "        direction[1] += int(val[1])\n",
    "    elif val[1].upper() == \"RIGHT\":\n",
    "        direction[1] += int(val[1])\n",
    "print(round(math.sqrt(direction[0]**2 + direction[1]**2)))"
   ]
  },
  {
   "cell_type": "code",
   "execution_count": null,
   "metadata": {},
   "outputs": [],
   "source": []
  }
 ],
 "metadata": {
  "kernelspec": {
   "display_name": "Python 3",
   "language": "python",
   "name": "python3"
  },
  "language_info": {
   "codemirror_mode": {
    "name": "ipython",
    "version": 3
   },
   "file_extension": ".py",
   "mimetype": "text/x-python",
   "name": "python",
   "nbconvert_exporter": "python",
   "pygments_lexer": "ipython3",
   "version": "3.7.6"
  }
 },
 "nbformat": 4,
 "nbformat_minor": 4
}
