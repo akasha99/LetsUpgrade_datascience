{
 "cells": [
  {
   "cell_type": "code",
   "execution_count": 22,
   "metadata": {},
   "outputs": [
    {
     "name": "stdout",
     "output_type": "stream",
     "text": [
      "Found the correct word RAINBOW in the list at 2\n"
     ]
    }
   ],
   "source": [
    "#Question 1:\n",
    "words = [\"RANIBOW\",\"RAINBOW\",\"BOWRANI\",\"ROBWANI\"]\n",
    "eng_word = \"RAINBOW\"\n",
    "if eng_word in words:\n",
    "    print(\"Found the correct word {0} in the list at {1}\".format(eng_word,words.index(eng_word)+1))\n",
    "else:\n",
    "    print(\"There is not correct word {0} in the list\".format(eng_word))"
   ]
  },
  {
   "cell_type": "code",
   "execution_count": 23,
   "metadata": {},
   "outputs": [
    {
     "name": "stdout",
     "output_type": "stream",
     "text": [
      "LETS UPGRADE\n"
     ]
    }
   ],
   "source": [
    "#Questions 2:\n",
    "l = \"lets upgrade\"\n",
    "print(l.upper())"
   ]
  },
  {
   "cell_type": "code",
   "execution_count": 24,
   "metadata": {},
   "outputs": [
    {
     "name": "stdout",
     "output_type": "stream",
     "text": [
      "100\n",
      "200\n",
      "Profit\n"
     ]
    }
   ],
   "source": [
    "##Questions 3:\n",
    "cost_price = int(input())\n",
    "selling_price = int(input())\n",
    "if cost_price == selling_price:\n",
    "    print(\"Neither\")\n",
    "elif cost_price > selling_price:\n",
    "    print(\"Loss\")\n",
    "else:\n",
    "    print(\"Profit\")"
   ]
  },
  {
   "cell_type": "code",
   "execution_count": 25,
   "metadata": {},
   "outputs": [
    {
     "name": "stdout",
     "output_type": "stream",
     "text": [
      "120\n",
      "9600\n"
     ]
    }
   ],
   "source": [
    "#Questions 4:\n",
    "euro = int(input())\n",
    "print((euro)*80)"
   ]
  },
  {
   "cell_type": "code",
   "execution_count": null,
   "metadata": {},
   "outputs": [],
   "source": []
  }
 ],
 "metadata": {
  "kernelspec": {
   "display_name": "Python 3",
   "language": "python",
   "name": "python3"
  },
  "language_info": {
   "codemirror_mode": {
    "name": "ipython",
    "version": 3
   },
   "file_extension": ".py",
   "mimetype": "text/x-python",
   "name": "python",
   "nbconvert_exporter": "python",
   "pygments_lexer": "ipython3",
   "version": "3.7.6"
  }
 },
 "nbformat": 4,
 "nbformat_minor": 4
}
