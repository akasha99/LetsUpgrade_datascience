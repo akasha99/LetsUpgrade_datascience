{
 "cells": [
  {
   "cell_type": "code",
   "execution_count": 32,
   "metadata": {},
   "outputs": [
    {
     "name": "stdout",
     "output_type": "stream",
     "text": [
      "[ 2  5  8 11 14 17 20 23 26 29 32 35 38 41 44 47]\n"
     ]
    }
   ],
   "source": [
    "#Question 1\n",
    "import numpy as np\n",
    "print(np.arange(2,50,3))"
   ]
  },
  {
   "cell_type": "code",
   "execution_count": 34,
   "metadata": {},
   "outputs": [
    {
     "name": "stdout",
     "output_type": "stream",
     "text": [
      "90\n",
      "76\n",
      "54\n",
      "43\n",
      "54\n",
      "43\n",
      "32\n",
      "21\n",
      "0\n",
      "1\n",
      "[90 76 54 43 54 43 32 21  0  1]\n",
      "[ 0  1 21 32 43 43 54 54 76 90]\n"
     ]
    }
   ],
   "source": [
    "#Question 2\n",
    "a = []\n",
    "b = []\n",
    "for i in range(5):\n",
    "    a.append(int(input()))\n",
    "for j in range(5):\n",
    "    b.append(int(input()))\n",
    "#covert\n",
    "a = np.array(a)\n",
    "b = np.array(b)\n",
    "c = np.concatenate((a, b))\n",
    "print(c)\n",
    "print(np.sort(c))"
   ]
  },
  {
   "cell_type": "code",
   "execution_count": 35,
   "metadata": {},
   "outputs": [
    {
     "name": "stdout",
     "output_type": "stream",
     "text": [
      "[[ 0  1  2  3]\n",
      " [ 4  5  6  7]\n",
      " [ 8  9 10 11]]\n",
      "2\n",
      "12\n",
      "(3, 4)\n"
     ]
    }
   ],
   "source": [
    "#Question 3\n",
    "arr = np.arange(12).reshape((3, 4))\n",
    "print(arr) #ndarray\n",
    "#dimentions\n",
    "print(arr.ndim)\n",
    "#size\n",
    "print(arr.size)\n",
    "#shape\n",
    "print(arr.shape)"
   ]
  },
  {
   "cell_type": "code",
   "execution_count": 36,
   "metadata": {},
   "outputs": [
    {
     "name": "stdout",
     "output_type": "stream",
     "text": [
      "[[0 1 2 3 4 5 6 7 8 9]]\n",
      "[[0 1 2 3 4 5 6 7 8 9]]\n"
     ]
    }
   ],
   "source": [
    "#Question 4\n",
    "n = np.arange(10)\n",
    "#np.newaxis\n",
    "print(n[np.newaxis,:])\n",
    "#The following is equivalent to x[np.newaxis, :] or x[np.newaxis]:\n",
    "print(np.expand_dims(n,axis=0))"
   ]
  }
 ],
 "metadata": {
  "kernelspec": {
   "display_name": "Python 3",
   "language": "python",
   "name": "python3"
  },
  "language_info": {
   "codemirror_mode": {
    "name": "ipython",
    "version": 3
   },
   "file_extension": ".py",
   "mimetype": "text/x-python",
   "name": "python",
   "nbconvert_exporter": "python",
   "pygments_lexer": "ipython3",
   "version": "3.7.6"
  }
 },
 "nbformat": 4,
 "nbformat_minor": 4
}
